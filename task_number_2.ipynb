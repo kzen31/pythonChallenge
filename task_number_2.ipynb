{
 "metadata": {
  "language_info": {
   "codemirror_mode": {
    "name": "ipython",
    "version": 3
   },
   "file_extension": ".py",
   "mimetype": "text/x-python",
   "name": "python",
   "nbconvert_exporter": "python",
   "pygments_lexer": "ipython3",
   "version": "3.8.5"
  },
  "orig_nbformat": 4,
  "kernelspec": {
   "name": "python3",
   "display_name": "Python 3.8.5 64-bit ('Programs': virtualenv)"
  },
  "interpreter": {
   "hash": "cc7436e339fb98a79d349a4b39e7546d0317772cabf469fe9b68837ca1e48e7d"
  }
 },
 "nbformat": 4,
 "nbformat_minor": 2,
 "cells": [
  {
   "cell_type": "code",
   "execution_count": 5,
   "metadata": {},
   "outputs": [],
   "source": [
    "## ============================= USE VSCODE OR JUPYTER==============================\n",
    "## +++++++++++++++++++++++++++ RUN EACH CELL ONE BY ONE  +++++++++++++++++++++++++++++++\n",
    "\n",
    "## ----------------Database Initialization-----------------\n",
    "import sqlite3\n",
    "from sqlite3 import Error\n",
    "def location():\n",
    "    return (r\"c:\\sqlite\\labPython2.db\") ##<<<<<<<<<<<<<< INITIALIZATION DATABASE TARGET <<<<<<<<<<<<<<\n",
    "\n",
    "def create_connection(db_file):\n",
    "    conn = None\n",
    "    try:\n",
    "        conn = sqlite3.connect(db_file)\n",
    "    except Error as e:\n",
    "        print(e)\n",
    "    finally:\n",
    "        if conn:\n",
    "            conn.close()\n",
    "\n",
    "if __name__ == '__main__':\n",
    "    create_connection(location()) \n",
    "\n",
    "## ================Database Initialization==================="
   ]
  },
  {
   "cell_type": "code",
   "execution_count": 6,
   "metadata": {},
   "outputs": [],
   "source": [
    "## ----------------Table Header Initialization-----------------\n",
    "def create_connection(db_file):\n",
    "    conn = None\n",
    "    try:\n",
    "        conn = sqlite3.connect(db_file)\n",
    "        return conn\n",
    "    except Error as e:\n",
    "        print(e)\n",
    "    return conn\n",
    "\n",
    "def create_table(conn, create_table_sql):\n",
    "    try:\n",
    "        cur = conn.cursor()\n",
    "        cur.execute(create_table_sql)\n",
    "    except Error as e:\n",
    "        print(e)\n",
    "\n",
    "def main():\n",
    "    database = location()\n",
    "\n",
    "    create_table_header = \"\"\"CREATE TABLE IF NOT EXISTS sales (\n",
    "                                    date timestamp NOT NULL,\n",
    "                                    sales integer NOT NULL\n",
    "                                );\"\"\"\n",
    "    conn = create_connection(database)\n",
    "    if conn is not None:\n",
    "        create_table(conn, create_table_header)\n",
    "    else:\n",
    "        print(\"Error! cannot create the database connection.\")\n",
    "\n",
    "\n",
    "if __name__ == '__main__':\n",
    "    main()\n",
    "## ================Table Header Initialization==================="
   ]
  },
  {
   "cell_type": "code",
   "execution_count": 7,
   "metadata": {},
   "outputs": [],
   "source": [
    "## ----------------Filling The table-----------------\n",
    "def create_task(conn, task):\n",
    "    sql = ''' INSERT INTO sales (date, sales)\n",
    "              VALUES(?,?) '''\n",
    "    cur = conn.cursor()\n",
    "    cur.execute(sql, task)\n",
    "    conn.commit()\n",
    "    return cur.lastrowid\n",
    "\n",
    "def main():\n",
    "    database = location()\n",
    "\n",
    "    conn = create_connection(database)\n",
    "    with conn:\n",
    "        query_1 = ('2021-01-01', 100)\n",
    "        query_2 = ('2021-01-02', 34)\n",
    "        query_3 = ('2021-01-02', 123)\n",
    "        query_4 = ('2021-01-02', 134)\n",
    "        query_5 = ('2021-01-03', 145)\n",
    "        query_6 = ('2021-01-03', 24)\n",
    "        query_7 = ('2021-01-04', 541)\n",
    "        query_8 = ('2021-01-04', 636)\n",
    "        query_9 = ('2021-01-05', 322)\n",
    "        query_10 = ('2021-01-06', 242)\n",
    "        query_11 = ('2021-01-07', 22)\n",
    "        query_12 = ('2021-01-08', 46)\n",
    "\n",
    "        create_task(conn, query_1)\n",
    "        create_task(conn, query_2)\n",
    "        create_task(conn, query_3)\n",
    "        create_task(conn, query_4)\n",
    "        create_task(conn, query_5)\n",
    "        create_task(conn, query_6)\n",
    "        create_task(conn, query_7)\n",
    "        create_task(conn, query_8)\n",
    "        create_task(conn, query_9)\n",
    "        create_task(conn, query_10)\n",
    "        create_task(conn, query_11)\n",
    "        create_task(conn, query_12)\n",
    "\n",
    "if __name__ == '__main__':\n",
    "    main()\n",
    "## ================Filling The table==================="
   ]
  },
  {
   "cell_type": "code",
   "execution_count": 8,
   "metadata": {},
   "outputs": [
    {
     "output_type": "stream",
     "name": "stdout",
     "text": [
      "          date  sales  rolling_sum  running_sum\n0   2021-01-01    100          100          100\n1   2021-01-02     34          291          391\n2   2021-01-02    123          291          391\n3   2021-01-02    134          291          391\n4   2021-01-03    145          169          560\n5   2021-01-03     24          169          560\n6   2021-01-04    541         1177         1737\n7   2021-01-04    636         1177         1737\n8   2021-01-05    322          322         2059\n9   2021-01-06    242          242         2301\n10  2021-01-07     22           22         2323\n11  2021-01-08     46           46         2369\n"
     ]
    }
   ],
   "source": [
    "## ------------------Query to Show SUM(sales)/date with Window function SQL--------------------\n",
    "import pandas as pd \n",
    "\n",
    "def main():\n",
    "    database = location()\n",
    "    conn = create_connection(database)\n",
    "    with conn:\n",
    "        query = \"\"\"SELECT *,\n",
    "            SUM(sales) OVER(PARTITION BY date) AS rolling_sum,\n",
    "            SUM(sales) OVER(ORDER BY date) AS running_sum\n",
    "            FROM sales  \n",
    "                \"\"\"\n",
    "    \n",
    "    df = pd.read_sql_query(query, conn)\n",
    "    conn.close()\n",
    "    print(df)\n",
    "\n",
    "if __name__ == '__main__':\n",
    "    main()\n",
    "\n",
    "## ================Query Menampilkan SUM(sales)/date with Window function SQL==================="
   ]
  },
  {
   "cell_type": "code",
   "execution_count": null,
   "metadata": {},
   "outputs": [],
   "source": []
  }
 ]
}